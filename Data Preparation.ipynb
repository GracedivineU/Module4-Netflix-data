{
 "cells": [
  {
   "cell_type": "code",
   "execution_count": 6,
   "id": "9c9535d2-bf5d-4bba-bd81-47806546e645",
   "metadata": {},
   "outputs": [
    {
     "name": "stdout",
     "output_type": "stream",
     "text": [
      "File renamed successfully.\n"
     ]
    }
   ],
   "source": [
    "import os\n",
    "\n",
    "# Original file path\n",
    "original_path = r\"C:\\Users\\user\\Desktop\\Module4-Netflix\\netflix_data.csv\"\n",
    "\n",
    "# New file path\n",
    "new_path = r\"C:\\Users\\user\\Desktop\\Module4-Netflix\\Netflix_shows_movies.csv\"\n",
    "\n",
    "# Rename the file\n",
    "os.rename(original_path, new_path)\n",
    "\n"
   ]
  },
  {
   "cell_type": "code",
   "execution_count": null,
   "id": "a3d7a752-516d-4dd1-b9c8-7b3a893673cb",
   "metadata": {},
   "outputs": [],
   "source": []
  }
 ],
 "metadata": {
  "kernelspec": {
   "display_name": "Python [conda env:anaconda3] *",
   "language": "python",
   "name": "conda-env-anaconda3-py"
  },
  "language_info": {
   "codemirror_mode": {
    "name": "ipython",
    "version": 3
   },
   "file_extension": ".py",
   "mimetype": "text/x-python",
   "name": "python",
   "nbconvert_exporter": "python",
   "pygments_lexer": "ipython3",
   "version": "3.12.7"
  }
 },
 "nbformat": 4,
 "nbformat_minor": 5
}
